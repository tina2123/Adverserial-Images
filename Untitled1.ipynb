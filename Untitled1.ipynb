{
  "nbformat": 4,
  "nbformat_minor": 0,
  "metadata": {
    "colab": {
      "name": "Untitled1.ipynb",
      "provenance": [],
      "authorship_tag": "ABX9TyNIhPeOFBbCSTcTZ+9km2iT",
      "include_colab_link": true
    },
    "kernelspec": {
      "name": "python3",
      "display_name": "Python 3"
    },
    "language_info": {
      "name": "python"
    }
  },
  "cells": [
    {
      "cell_type": "markdown",
      "metadata": {
        "id": "view-in-github",
        "colab_type": "text"
      },
      "source": [
        "<a href=\"https://colab.research.google.com/github/tina2123/Adverserial-Images/blob/main/Untitled1.ipynb\" target=\"_parent\"><img src=\"https://colab.research.google.com/assets/colab-badge.svg\" alt=\"Open In Colab\"/></a>"
      ]
    },
    {
      "cell_type": "markdown",
      "metadata": {
        "id": "0VYs-AHJ8Ix5"
      },
      "source": [
        "**4)The Find-Sconjunctions Algorithm (Programming Exercise) [15points]t**"
      ]
    },
    {
      "cell_type": "markdown",
      "metadata": {
        "id": "0p_ZPaAU8SH5"
      },
      "source": [
        "(i)"
      ]
    },
    {
      "cell_type": "code",
      "metadata": {
        "id": "wQi1aCM5XGBI"
      },
      "source": [
        "import random"
      ],
      "execution_count": 1,
      "outputs": []
    },
    {
      "cell_type": "code",
      "metadata": {
        "id": "wrmc1Y9rITfV"
      },
      "source": [
        "examples=[(\"110\",1),(\"100\",1)]#these are examples and the table H\n",
        "H=[(\"000\",[0,1,0,1,0,1]),(\"001\",[0,1,0,1,1,0]),(\"010\",[0,1,1,0,0,1]),(\"011\",[0,1,1,0,1,0]),(\"100\",[1,0,0,1,0,1]),(\"101\", [1,0,0,1,1,0]),(\"110\",[1,0,1,0,0,1]),(\"111\",[1,0,1,0,1,0])]"
      ],
      "execution_count": 2,
      "outputs": []
    },
    {
      "cell_type": "code",
      "metadata": {
        "id": "RKHZ5UvuMBpR"
      },
      "source": [
        "def findI(target,H):#this function is a search function. It finds the instance on the table and it returns the hypothesis of the instance\n",
        "  for e in H:\n",
        "    if e[0]==target:\n",
        "      return e[1]"
      ],
      "execution_count": 4,
      "outputs": []
    },
    {
      "cell_type": "code",
      "metadata": {
        "colab": {
          "base_uri": "https://localhost:8080/"
        },
        "id": "FBpz147zMgnL",
        "outputId": "55c3dca2-9534-4618-af19-148b75257921"
      },
      "source": [
        "print(findI(\"110\",H))"
      ],
      "execution_count": 5,
      "outputs": [
        {
          "output_type": "stream",
          "name": "stdout",
          "text": [
            "[1, 0, 1, 0, 0, 1]\n"
          ]
        }
      ]
    },
    {
      "cell_type": "code",
      "metadata": {
        "id": "iXPM5NgDOghb"
      },
      "source": [
        "h=[\"v1\",\"v1'\",\"v2\",\"v2'\",\"v3\",\"v3'\"]#this is the intitial hypothesis"
      ],
      "execution_count": 62,
      "outputs": []
    },
    {
      "cell_type": "code",
      "metadata": {
        "colab": {
          "base_uri": "https://localhost:8080/"
        },
        "id": "OaUxIw0zJZmU",
        "outputId": "bb72de52-5b95-4242-c391-6e55dd3e6a76"
      },
      "source": [
        " def S_conjunction(exp,H,h):\n",
        "  for i in exp:\n",
        "    l= findI(i[0],H)\n",
        "    for j in range(0,len(i[0])):\n",
        "      if i[0][j]==l[j*2]:      \n",
        "        h[j*2]=\"?\"#replacing the negative character with the question mark by mapping the examples and initialhupothesis\n",
        "      else:\n",
        "        h[j*2+1]=\"?\"\n",
        "  return h\n",
        "print(S_conjunction(examples,H,h))"
      ],
      "execution_count": 63,
      "outputs": [
        {
          "output_type": "stream",
          "name": "stdout",
          "text": [
            "['v1', '?', 'v2', '?', 'v3', '?']\n"
          ]
        }
      ]
    },
    {
      "cell_type": "markdown",
      "metadata": {
        "id": "kCBp1YIw8VvF"
      },
      "source": [
        "(ii)"
      ]
    },
    {
      "cell_type": "markdown",
      "metadata": {
        "id": "qmJ0FREqW1AU"
      },
      "source": [
        "Generate an unknown monomial c over the variables v1; : : : ; vn uniformly at random:"
      ]
    },
    {
      "cell_type": "code",
      "metadata": {
        "colab": {
          "base_uri": "https://localhost:8080/"
        },
        "id": "yx6st3lfW4xu",
        "outputId": "39344b56-2e49-4b85-b197-a9ec248ace7d"
      },
      "source": [
        "randomlist = []\n",
        "r = random.randint(1,10)\n",
        "for i in range(0,r):\n",
        "  n = random.randint(0,1)\n",
        "  randomlist.append(n)\n",
        "print(randomlist)"
      ],
      "execution_count": 8,
      "outputs": [
        {
          "output_type": "stream",
          "name": "stdout",
          "text": [
            "[1, 1, 1, 0, 1, 1, 1]\n"
          ]
        }
      ]
    },
    {
      "cell_type": "markdown",
      "metadata": {
        "id": "M6qoGOHIXWMI"
      },
      "source": [
        "Generate a set of labeled examples E = E+ [ E− ⊆ f0; 1gn × f0; 1g\n",
        "with jEj = ‘ uniformly at random"
      ]
    },
    {
      "cell_type": "code",
      "metadata": {
        "colab": {
          "base_uri": "https://localhost:8080/"
        },
        "id": "BQWHI9ElXq2F",
        "outputId": "f01448e1-d842-4ffe-c57a-cfa46e4ef536"
      },
      "source": [
        "randomlist = []\n",
        "falselist=[]\n",
        "l = random.randint(3,10)\n",
        "for i in range(0,l):\n",
        "    randomlist.append(1)   \n",
        "    randomlist.append(0)\n",
        "lst =[[],[],[],[],[]]\n",
        " \n",
        "for i in range(0,len(lst)):\n",
        "  my_lst=random.sample(randomlist,l)\n",
        "  \n",
        "  lst[i]=(random.randint(0,1),''.join(map(str, my_lst)))\n",
        "\n",
        "lst\n",
        " "
      ],
      "execution_count": 51,
      "outputs": [
        {
          "output_type": "execute_result",
          "data": {
            "text/plain": [
              "[(0, '0101'), (0, '0110'), (1, '0100'), (1, '0110'), (1, '1001')]"
            ]
          },
          "metadata": {},
          "execution_count": 51
        }
      ]
    },
    {
      "cell_type": "markdown",
      "metadata": {
        "id": "ROU-Yc3utlCs"
      },
      "source": [
        "Introduce noise: Flip the label of p 2 [0; 1] percent of the examples.\n",
        "For instance, h001; 1i would become h001; 0i."
      ]
    },
    {
      "cell_type": "code",
      "metadata": {
        "id": "KSLxdZLctpZ2"
      },
      "source": [
        "p = random.randint(0,l)"
      ],
      "execution_count": 52,
      "outputs": []
    },
    {
      "cell_type": "code",
      "metadata": {
        "colab": {
          "base_uri": "https://localhost:8080/"
        },
        "id": "6e1aQW4YtzAy",
        "outputId": "3b807aed-994d-4060-f897-ef0db90ed9b0"
      },
      "source": [
        "for i in range(0,p):\n",
        "  x=random.randint(0,len(lst)-1)\n",
        "  if lst[x][0]==0:\n",
        "    lst[x]=(1,lst[x][1])\n",
        "  else:\n",
        "    lst[x]=(0,lst[x][1])\n",
        "  \n",
        "lst"
      ],
      "execution_count": 53,
      "outputs": [
        {
          "output_type": "execute_result",
          "data": {
            "text/plain": [
              "[(1, '0101'), (0, '0110'), (1, '0100'), (0, '0110'), (1, '1001')]"
            ]
          },
          "metadata": {},
          "execution_count": 53
        }
      ]
    },
    {
      "cell_type": "code",
      "metadata": {
        "id": "ClQl82J8y7NR"
      },
      "source": [
        "q = random.randint(0,l)"
      ],
      "execution_count": 54,
      "outputs": []
    },
    {
      "cell_type": "code",
      "metadata": {
        "colab": {
          "base_uri": "https://localhost:8080/"
        },
        "id": "p0buJIcCy3m0",
        "outputId": "3eeaabcd-9545-4522-e0a0-98e9a887337a"
      },
      "source": [
        "for i in range(0,q):\n",
        "  x=random.randint(0,len(lst)-1)\n",
        "  lst.append(lst[x])\n",
        "lst"
      ],
      "execution_count": 55,
      "outputs": [
        {
          "output_type": "execute_result",
          "data": {
            "text/plain": [
              "[(1, '0101'),\n",
              " (0, '0110'),\n",
              " (1, '0100'),\n",
              " (0, '0110'),\n",
              " (1, '1001'),\n",
              " (1, '0100'),\n",
              " (1, '1001'),\n",
              " (1, '0100')]"
            ]
          },
          "metadata": {},
          "execution_count": 55
        }
      ]
    },
    {
      "cell_type": "markdown",
      "metadata": {
        "id": "9U5m0zWw8YA3"
      },
      "source": [
        "(iii)"
      ]
    },
    {
      "cell_type": "markdown",
      "metadata": {
        "id": "IhICuUIK6_tN"
      },
      "source": [
        "Without noise and inconsistencies (i.e., p = q = 0), what effect\n",
        "does an increasing number of training examples ‘ have on the performance? \n",
        "\n",
        "\n",
        "The more examples we have the more likely our algorithm accuracy is higher since there is a better probability to detect any inconsistency and noise\n",
        "\n",
        "\n",
        "\n",
        "\n",
        "\n"
      ]
    },
    {
      "cell_type": "markdown",
      "metadata": {
        "id": "63TVTgLm7fsa"
      },
      "source": [
        "How does the amount of noise affect the outcome?\n",
        "\n",
        "\n",
        "The amount of noise increases the error and decreases the accuracy"
      ]
    },
    {
      "cell_type": "markdown",
      "metadata": {
        "id": "w0LDu5CI7wdY"
      },
      "source": [
        "How does the algorithm handle inconsistencies?\n",
        "The algorithm keep on generalizing until the hypothesis is very broad and there are no specific rules"
      ]
    }
  ]
}